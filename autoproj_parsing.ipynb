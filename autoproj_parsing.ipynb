{
 "cells": [
  {
   "cell_type": "code",
   "execution_count": 57,
   "metadata": {},
   "outputs": [],
   "source": [
    "import requests\n",
    "from bs4 import BeautifulSoup\n",
    "import re\n",
    "from tqdm.auto import tqdm"
   ]
  },
  {
   "cell_type": "code",
   "execution_count": 30,
   "metadata": {},
   "outputs": [],
   "source": [
    "titles = []\n",
    "\n",
    "url = 'https://skazki.rustih.ru/rasskazy/o-genri-rasskazy/'\n",
    "response = requests.get(url)\n",
    "soup = BeautifulSoup(response.text, 'lxml')\n",
    "webs = soup.find_all('div', class_='entry-title')\n",
    "for j in range(len(webs)):\n",
    "    titles.append(str(webs[j].find('a').get('href')))"
   ]
  },
  {
   "cell_type": "code",
   "execution_count": 59,
   "metadata": {},
   "outputs": [
    {
     "data": {
      "application/vnd.jupyter.widget-view+json": {
       "model_id": "ebc3703c63c64aaf89491c58c9086d9a",
       "version_major": 2,
       "version_minor": 0
      },
      "text/plain": [
       "HBox(children=(FloatProgress(value=0.0, max=96.0), HTML(value='')))"
      ]
     },
     "metadata": {},
     "output_type": "display_data"
    },
    {
     "name": "stdout",
     "output_type": "stream",
     "text": [
      "\n"
     ]
    }
   ],
   "source": [
    "poems = []\n",
    "for i in tqdm(range(len(titles))):\n",
    "    with open('autoproj\\poem'+str(i+1)+'.txt', 'a', encoding='utf-8') as poem:\n",
    "        response = requests.get(titles[i])\n",
    "        soup = BeautifulSoup(response.text, 'lxml')\n",
    "        poem_title = soup.find('h1', class_='entry-title').text\n",
    "        poem_title = re.sub('О. Генри — ', '', poem_title)\n",
    "        poem_title = re.sub(': Рассказ', '', poem_title)\n",
    "        poem.write(poem_title)\n",
    "        poem.write('\\n')\n",
    "        poem_text = soup.find_all('div', class_='entry-content poem-text')\n",
    "        for j in range(len(poem_text)):\n",
    "            story = ''\n",
    "            for paragraph in poem_text[j].find_all('p'):\n",
    "                story += paragraph.text\n",
    "                story += ' '\n",
    "            story = re.sub('\\. ', '.  ', story)\n",
    "            story = re.sub('\\! ', '!  ', story)\n",
    "            story = re.sub('\\? ', '?  ', story)\n",
    "            poem.write(story)\n",
    "        \n",
    "        \n",
    "    "
   ]
  },
  {
   "cell_type": "code",
   "execution_count": null,
   "metadata": {},
   "outputs": [],
   "source": []
  }
 ],
 "metadata": {
  "kernelspec": {
   "display_name": "Python 3",
   "language": "python",
   "name": "python3"
  },
  "language_info": {
   "codemirror_mode": {
    "name": "ipython",
    "version": 3
   },
   "file_extension": ".py",
   "mimetype": "text/x-python",
   "name": "python",
   "nbconvert_exporter": "python",
   "pygments_lexer": "ipython3",
   "version": "3.8.3"
  }
 },
 "nbformat": 4,
 "nbformat_minor": 4
}
